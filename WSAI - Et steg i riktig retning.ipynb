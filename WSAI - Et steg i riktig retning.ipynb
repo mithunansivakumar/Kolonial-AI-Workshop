{
 "cells": [
  {
   "cell_type": "markdown",
   "metadata": {},
   "source": [
    "# Workshop AI"
   ]
  },
  {
   "cell_type": "markdown",
   "metadata": {},
   "source": [
    "## Importere data "
   ]
  },
  {
   "cell_type": "markdown",
   "metadata": {},
   "source": [
    "Først importerer vi datasettet fra csv-filen"
   ]
  },
  {
   "cell_type": "code",
   "execution_count": 2,
   "metadata": {},
   "outputs": [],
   "source": [
    "from pathlib import Path\n",
    "\n",
    "import pandas as pd\n",
    "\n",
    "# Sett instillinger i pandas slik at det er enklere å inspisere data \n",
    "pd.options.display.max_rows = 100\n",
    "pd.options.display.max_columns = 100\n",
    "pd.options.display.max_colwidth = 100\n",
    "\n",
    "# Les data \n",
    "DATA_PATH = Path(\"./\")\n",
    "deliveries = pd.read_csv(DATA_PATH / \"deliveries.csv\", low_memory=False)"
   ]
  },
  {
   "cell_type": "markdown",
   "metadata": {},
   "source": [
    "For å splitte et datasett inn i en \"trenings\"-del og en \"test\"-del, \n",
    "kan du bruke metoden train_test_split fra sklearn"
   ]
  },
  {
   "cell_type": "code",
   "execution_count": 3,
   "metadata": {},
   "outputs": [],
   "source": [
    " \n",
    "from sklearn.model_selection import train_test_split\n",
    "X, y = deliveries.drop(\"service_time\", axis=1), deliveries[\"service_time\"]\n",
    "X_train, X_test, y_train, y_test = train_test_split(X, y, test_size=0.2, random_state=42)"
   ]
  },
  {
   "cell_type": "markdown",
   "metadata": {},
   "source": [
    "Du har nå input for trening (X_train) og testing (X_test) og forventede labels (service-time) for trening (y_train) og for y_test. \n",
    "Det er y_test som blir \"fasiten\" - altså det vi ønsker å predikere. "
   ]
  },
  {
   "cell_type": "markdown",
   "metadata": {},
   "source": [
    "## Baseline solution"
   ]
  },
  {
   "cell_type": "markdown",
   "metadata": {},
   "source": [
    "Vi kan så lage en enkel \"baseline\" løsning som bruker gjennomsnittlig service-time som prediksjon"
   ]
  },
  {
   "cell_type": "code",
   "execution_count": 4,
   "metadata": {},
   "outputs": [
    {
     "data": {
      "text/plain": [
       "11.0"
      ]
     },
     "execution_count": 4,
     "metadata": {},
     "output_type": "execute_result"
    }
   ],
   "source": [
    "avg_service_time = y_train.mean()\n",
    "round(avg_service_time)"
   ]
  },
  {
   "cell_type": "code",
   "execution_count": 5,
   "metadata": {},
   "outputs": [],
   "source": [
    "# Iterer over alle radene i test-data og \"prediker\" \"avg_service_time\" for all data\n",
    "baseline_predictions = []\n",
    "for index, row in X_test.iterrows():\n",
    "    baseline_predictions.append(avg_service_time)"
   ]
  },
  {
   "cell_type": "markdown",
   "metadata": {},
   "source": [
    "Nå som vi har en liste med prediksjoner, kan vi enkelt regne ut gjenommsnittlig MAE ved å bruke følgende funksjon:"
   ]
  },
  {
   "cell_type": "code",
   "execution_count": 6,
   "metadata": {},
   "outputs": [
    {
     "data": {
      "text/plain": [
       "3.7801161373938115"
      ]
     },
     "execution_count": 6,
     "metadata": {},
     "output_type": "execute_result"
    }
   ],
   "source": [
    "from sklearn.metrics import mean_absolute_error\n",
    "mean_absolute_error(y_test, baseline_predictions)"
   ]
  },
  {
   "cell_type": "markdown",
   "metadata": {},
   "source": [
    "Feilraten ovenfor er den vi i første omgang burde prøve å slå med maskinlæringsverktøy!"
   ]
  },
  {
   "cell_type": "markdown",
   "metadata": {},
   "source": [
    "## Data Analyse"
   ]
  },
  {
   "cell_type": "markdown",
   "metadata": {},
   "source": [
    "### Dataens betydning"
   ]
  },
  {
   "cell_type": "markdown",
   "metadata": {},
   "source": [
    "Før vi begynner å \"mate\" data til en maskinlæringsmodell kan det være lurt å prøve å få en bedre \n",
    "forståelse av dataen vi har. "
   ]
  },
  {
   "cell_type": "markdown",
   "metadata": {},
   "source": [
    "Det er f.eks. ikke sikkert at all data er nyttig for å predikere - denne dataen kalles for 'støy' og vil \n",
    "skyve læringen til modellen i feil retning. "
   ]
  },
  {
   "cell_type": "markdown",
   "metadata": {},
   "source": [
    "La oss nærmere inspektere attributten 'num_frozen_bags'\n",
    "ved å plotte antallet leveranser med ulike 'num_frozen_bags'"
   ]
  },
  {
   "cell_type": "code",
   "execution_count": 7,
   "metadata": {},
   "outputs": [],
   "source": [
    "\n",
    "import seaborn as sns\n",
    "import matplotlib.pyplot as plt\n",
    "\n",
    "frozen_count = deliveries[\"num_bags_frozen\"].value_counts()\n",
    "\n",
    "sns.barplot(x=frozen_count.index, y=frozen_count.values)\n",
    "plt.title(\"Nr. of Frozen bags - Distribution\")\n",
    "plt.ylabel(\"Count\")\n",
    "plt.xlabel(\"Nr. of Frozen Bags\");"
   ]
  },
  {
   "cell_type": "markdown",
   "metadata": {},
   "source": [
    "Deretter kan vi plotte gjenomsnittlig service-time gruppert etter 'num_frozen_bags'"
   ]
  },
  {
   "cell_type": "code",
   "execution_count": 8,
   "metadata": {},
   "outputs": [
    {
     "data": {
      "image/png": "[encoded data removed]",
      "text/plain": [
       "<Figure size 432x288 with 1 Axes>"
      ]
     },
     "metadata": {
      "needs_background": "light"
     },
     "output_type": "display_data"
    }
   ],
   "source": [
    "\n",
    "frozen_service = deliveries[[\"num_bags_frozen\", \"service_time\"]].groupby(\"num_bags_frozen\").mean()\n",
    "\n",
    "sns.barplot(x=frozen_service.index, y=frozen_service.values[:, 0])\n",
    "plt.title(\"Frozen bags - Service-time distribution\")\n",
    "plt.ylabel(\"Avg. Service Time\")\n",
    "plt.xlabel(\"Nr of frozen bags\");"
   ]
  },
  {
   "cell_type": "markdown",
   "metadata": {},
   "source": [
    "Hva forteller dette oss? \n",
    "Det kan se ut som gjenomsnittlig service-tid øker litt etter litt ettersom budet må levere flere frozen_bags. \n",
    "Det kan med andre ord se ut som \n",
    "attributten 'num_frozen_bags' har 'statistisk signifikans' for å predikere 'service_time'"
   ]
  },
  {
   "cell_type": "markdown",
   "metadata": {},
   "source": [
    "Hva skjer hvis du bruker samme fremgangsmetode for attributten 'municipality' (kommune)?\n",
    "Har denne attributten statistisk signifikans når det kommer til å predikere service-time?"
   ]
  },
  {
   "cell_type": "markdown",
   "metadata": {},
   "source": [
    "### Manglende Verdier"
   ]
  },
  {
   "cell_type": "markdown",
   "metadata": {},
   "source": [
    "En annen viktig ting når det kommer til å utforske data, er å se på de manglende verdiene i datasettet. \n",
    "I pandas, dersom du vil få en summering av hvor mange felter som mangler for hver attributt, kan du bruke: "
   ]
  },
  {
   "cell_type": "code",
   "execution_count": 9,
   "metadata": {},
   "outputs": [
    {
     "data": {
      "text/plain": [
       "user_id                              0\n",
       "can_select_unattended_delivery     669\n",
       "floor                             2888\n",
       "has_elevator                      4113\n",
       "can_use_trolley                   3061\n",
       "is_unattended_delivery             284\n",
       "delivery_date                        0\n",
       "slot_start_time                      0\n",
       "slot_end_time                        0\n",
       "num_boxes_dry                        0\n",
       "num_boxes_cold                       0\n",
       "num_bags_frozen                      0\n",
       "num_products                         0\n",
       "products_weight                     18\n",
       "street                               0\n",
       "street_number                        0\n",
       "zip_code                             0\n",
       "zip_place                            0\n",
       "area_segment                         0\n",
       "municipality                         0\n",
       "service_time                         0\n",
       "dtype: int64"
      ]
     },
     "execution_count": 9,
     "metadata": {},
     "output_type": "execute_result"
    }
   ],
   "source": [
    "\n",
    "deliveries.isna().sum()"
   ]
  },
  {
   "cell_type": "markdown",
   "metadata": {},
   "source": [
    "De fleste maskinlæringsmodeller vil ikke kunne håndtere 'NaN'-verdier, og vi må derfor finne en måte å håndtere \n",
    "manglende data på. \n",
    "En helt naiv fremgangsmåte kan forkaste alle rader i datasettet som inneholder en kolonne med manglende data. \n",
    "Problemet her er dog at vi da mister mye data som vi ellers kan bruke til trening - og som igjen sørger for at vi \n",
    "får bedre prediksjoner. \n",
    "\n",
    "NB: For å forkaste alle rader med en 'NaN'-verdi, kan man bruke kommandoen: deliveries = deliveries.dropna(how='any')"
   ]
  },
  {
   "cell_type": "markdown",
   "metadata": {},
   "source": [
    "En bedre løsning for å håndtere manglende data kan være å inter-/ekstrapolere fra andre rader i datasettet.@\n",
    "Det kan f.eks. være fornuftig å anta at dersom vi ikke har attributten 'has_elevator' så kan vi alikevell anta \n",
    "at denne må være 'True' dersom bygningen det leveres til har mer enn f.eks. 4 etasjer. "
   ]
  },
  {
   "cell_type": "markdown",
   "metadata": {},
   "source": [
    "Prøv ulike metoder å håndtere manglende data på - men vær forsiktig med antakelsene du tar og undersøk hvorvidt \n",
    "ekstrapoleringen du gjør er fornuftig, gitt den dataen du har fra før."
   ]
  },
  {
   "cell_type": "markdown",
   "metadata": {},
   "source": [
    "Senere kan du prøve å mate forskjellige datasett, der du har håndtert manglende data på forskjellige måter, til \n",
    "maskinlæringsmodellene - for så å se hvilke fremgangsmåter som gir forbedret resultat. "
   ]
  },
  {
   "cell_type": "markdown",
   "metadata": {},
   "source": [
    "### Forenkle data og fjerne støy"
   ]
  },
  {
   "cell_type": "markdown",
   "metadata": {},
   "source": [
    "En annen ting å ta i betrakning er hva vi skal gjøre med data som f.eks. 'delivery_data'? \n",
    "Kan vi forvente at nøyaktig leveringsdato hjelper oss med å predikere servive-time, eller betyr dette bare ekstra støy?\n",
    "En fornuftig antakelse kan f.eks. være at det kun er månden som har innvirkning på service-tid og ikke eksakt dato. \n",
    "Dette høres ganske fornuftig ut - kanskje det er glatt i vintermånedene og budene må trå ekstra forsiktig? "
   ]
  },
  {
   "cell_type": "code",
   "execution_count": 10,
   "metadata": {},
   "outputs": [],
   "source": [
    "# Vi kan erstatte dato-streng med bare måneden\n",
    "deliveries['delivery_date'] = deliveries['delivery_date'].apply(lambda x: int(x.split('-')[1]))\n",
    "# Da gir det mening å endre navnet på feltet fra 'delivery_date' til 'delivery_month'\n",
    "deliveries = deliveries.rename(columns={'delivery_date': 'delivery_month'})"
   ]
  },
  {
   "cell_type": "markdown",
   "metadata": {},
   "source": [
    "Kommer du på andre måter som kan være fornuftige å gruppere data på og som kan redusere støy?"
   ]
  },
  {
   "cell_type": "markdown",
   "metadata": {},
   "source": [
    "Et nyttig tips: Du kan bruke .describe() til å få en oversikt over data i en kolonne - kanskje dette kan hjelpe deg?"
   ]
  },
  {
   "cell_type": "code",
   "execution_count": 11,
   "metadata": {},
   "outputs": [
    {
     "data": {
      "text/plain": [
       "count    29083.000000\n",
       "mean         6.606918\n",
       "std          4.266637\n",
       "min          1.000000\n",
       "25%          2.000000\n",
       "50%          8.000000\n",
       "75%         11.000000\n",
       "max         12.000000\n",
       "Name: delivery_month, dtype: float64"
      ]
     },
     "execution_count": 11,
     "metadata": {},
     "output_type": "execute_result"
    }
   ],
   "source": [
    "deliveries['delivery_month'].describe()"
   ]
  },
  {
   "cell_type": "markdown",
   "metadata": {},
   "source": [
    "## Lesbarhet og encoding"
   ]
  },
  {
   "cell_type": "markdown",
   "metadata": {},
   "source": [
    "En siste betraktning vi må gjøre før vi mater data til en maskinlæringsmodell er hvordan vi skal representere data.\n",
    "Mange maskinlæringsmodeller vil kun fungere med numerisk data. \n",
    "\n",
    "Her kan det være lurt å lese seg opp på one-hot-encoding: https://machinelearningmastery.com/why-one-hot-encode-data-in-machine-learning/"
   ]
  },
  {
   "cell_type": "code",
   "execution_count": 12,
   "metadata": {},
   "outputs": [],
   "source": [
    "# Splitter datasettet i trenings- og test-data på nytt, siden vi har forandret på deliveries\n",
    "from sklearn.model_selection import train_test_split\n",
    "X, y = deliveries.drop(\"service_time\", axis=1), deliveries[\"service_time\"]\n",
    "X_train, X_test, y_train, y_test = train_test_split(X, y, test_size=0.2, random_state=42)"
   ]
  },
  {
   "cell_type": "code",
   "execution_count": 13,
   "metadata": {},
   "outputs": [
    {
     "name": "stderr",
     "output_type": "stream",
     "text": [
      "/Library/Frameworks/Python.framework/Versions/3.6/lib/python3.6/site-packages/sklearn/preprocessing/_encoders.py:415: FutureWarning: The handling of integer data will change in version 0.22. Currently, the categories are determined based on the range [0, max(values)], while in the future they will be determined based on the unique values.\n",
      "If you want the future behaviour and silence this warning, you can specify \"categories='auto'\".\n",
      "In case you used a LabelEncoder before this OneHotEncoder to convert the categories to integers, then you can now use the OneHotEncoder directly.\n",
      "  warnings.warn(msg, FutureWarning)\n"
     ]
    }
   ],
   "source": [
    "# One-hot-encoding kan gjøres enkelt i python, slik:\n",
    "from sklearn.preprocessing import OneHotEncoder\n",
    "encoder = OneHotEncoder()\n",
    "\n",
    "columns = ['month{}'.format(i) for i in range(len(X_train['delivery_month'].unique()))]\n",
    "encoded_months = encoder.fit_transform(X_train['delivery_month'].values.reshape(-1,1)) # Fit encoder and transform training data"
   ]
  },
  {
   "cell_type": "code",
   "execution_count": 16,
   "metadata": {},
   "outputs": [],
   "source": [
    "# Så kan du utvide X_train med den one-hot-encodede dataen, slik:\n",
    "enc_df = pd.DataFrame(encoded_months.toarray(), columns=columns)\n",
    "X_train = X_train.join(enc_df)\n",
    "# Also remember to remove the 'delivery_month' field\n",
    "X_train = X_train.drop(columns='delivery_month')"
   ]
  },
  {
   "cell_type": "markdown",
   "metadata": {},
   "source": [
    "Hvilke andre verdier vil være fornuftige å 'one-hot-encode'? Trenger du å one-hot-encode test-data også?"
   ]
  },
  {
   "cell_type": "code",
   "execution_count": null,
   "metadata": {},
   "outputs": [],
   "source": []
  },
  {
   "cell_type": "markdown",
   "metadata": {},
   "source": [
    "Alt vi har gjort så langt kan vi kalle for 'data analysis' og 'feature engineering'. Ved å undersøke dataen, og endre den slik at vi reduserer støy og får numeriske verdier, blir data mye enklere å lese for en maskinlæringsmodell - noe som igjen vil reslutere i bedre (og raskere) læring. "
   ]
  },
  {
   "cell_type": "markdown",
   "metadata": {},
   "source": [
    "Nå kan du prøve å mate dataen din inn i en modell fra f.eks. catboost, xgboost eller tensorflow, for å se om du får en bedre MAE enn du gjorde med 'baseline solution'. "
   ]
  },
  {
   "cell_type": "code",
   "execution_count": null,
   "metadata": {},
   "outputs": [],
   "source": []
  },
  {
   "cell_type": "code",
   "execution_count": null,
   "metadata": {},
   "outputs": [],
   "source": []
  }
 ],
 "metadata": {
  "kernelspec": {
   "display_name": "Python 3",
   "language": "python",
   "name": "python3"
  },
  "language_info": {
   "codemirror_mode": {
    "name": "ipython",
    "version": 3
   },
   "file_extension": ".py",
   "mimetype": "text/x-python",
   "name": "python",
   "nbconvert_exporter": "python",
   "pygments_lexer": "ipython3",
   "version": "3.6.3"
  }
 },
 "nbformat": 4,
 "nbformat_minor": 2
}
